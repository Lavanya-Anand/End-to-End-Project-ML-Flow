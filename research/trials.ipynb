{
 "cells": [
  {
   "cell_type": "markdown",
   "id": "3d0b7d83",
   "metadata": {},
   "source": [
    "# 1. Data Ingestion"
   ]
  },
  {
   "cell_type": "code",
   "execution_count": 1,
   "id": "f866d56b",
   "metadata": {},
   "outputs": [],
   "source": [
    "import os"
   ]
  },
  {
   "cell_type": "code",
   "execution_count": 2,
   "id": "c050c2ac",
   "metadata": {},
   "outputs": [
    {
     "name": "stdout",
     "output_type": "stream",
     "text": [
      "/c/Users/lavanyaa/Projects/End-to-End-Project-ML-Flow/research\n"
     ]
    }
   ],
   "source": [
    "!pwd"
   ]
  },
  {
   "cell_type": "code",
   "execution_count": 3,
   "id": "8cc931ef",
   "metadata": {},
   "outputs": [],
   "source": [
    "os.chdir(\"../\")"
   ]
  },
  {
   "cell_type": "code",
   "execution_count": 4,
   "id": "57a0f65c",
   "metadata": {},
   "outputs": [
    {
     "data": {
      "text/plain": [
       "'c:\\\\Users\\\\lavanyaa\\\\Projects\\\\End-to-End-Project-ML-Flow'"
      ]
     },
     "execution_count": 4,
     "metadata": {},
     "output_type": "execute_result"
    }
   ],
   "source": [
    "%pwd"
   ]
  },
  {
   "cell_type": "code",
   "execution_count": 19,
   "id": "1eeb0076",
   "metadata": {},
   "outputs": [],
   "source": [
    "#entity\n",
    "\n",
    "from dataclasses import dataclass\n",
    "from pathlib import Path\n",
    "\n",
    "@dataclass(frozen=True)\n",
    "class DataIngestionConfig:\n",
    "    root_dir: Path\n",
    "    source_URL: str\n",
    "    local_data_file:Path\n",
    "    unzip_dir: Path\n",
    "\n",
    "\n",
    "# #Constant - paths the yaml file\n",
    "\n",
    "# from pathlib import Path\n",
    "\n",
    "# CONFIG_FILE_PATH=Path(\"config/config.yaml\")\n",
    "# PARAMS_FILE_PATH=Path(\"params.yaml\")\n",
    "# SCHEMA_FILE_PATH = Path(\"schema.yaml\")\n"
   ]
  },
  {
   "cell_type": "code",
   "execution_count": 20,
   "id": "705b8dd8",
   "metadata": {},
   "outputs": [],
   "source": [
    "# Configuration Manager \n",
    "from mlProject.constants import *\n",
    "from mlProject.utils.common import read_yaml, create_directories\n",
    "\n",
    "class ConfigurationManager:\n",
    "    def __init__(self, config_filepath=CONFIG_FILE_PATH, params_filepath=PARAMS_FILE_PATH,schema_filepath=SCHEMA_FILE_PATH):\n",
    "        self.config = read_yaml(config_filepath)\n",
    "        self.params = read_yaml(params_filepath)\n",
    "        self.schema = read_yaml(schema_filepath)\n",
    "\n",
    "        create_directories([self.config.artifacts_root])\n",
    "\n",
    "    def get_data_ingestion_config(self) -> DataIngestionConfig:\n",
    "        config=self.config.data_ingestion\n",
    "\n",
    "        create_directories([config.root_dir])\n",
    "\n",
    "        data_ingestion_config = DataIngestionConfig(root_dir=config.root_dir, source_URL=config.source_URL, \n",
    "                                                    local_data_file=config.local_Data_file,\n",
    "                                                    unzip_dir=config.unzip_dir)\n",
    "        return data_ingestion_config"
   ]
  },
  {
   "cell_type": "code",
   "execution_count": null,
   "id": "6d0356e4",
   "metadata": {},
   "outputs": [],
   "source": [
    "# Component\n",
    "\n",
    "import os\n",
    "import urllib.request as request\n",
    "import zipfile\n",
    "from mlProject import logger\n",
    "from mlProject.utils.common import get_size\n",
    "\n",
    "\n",
    "class DataIngestion:\n",
    "    def __init__(self,config: DataIngestionConfig):\n",
    "        self.config = config\n",
    "\n",
    "    def download_file(self):\n",
    "        if not os.path.exists(self.config.local_data_file):\n",
    "            filename, headers = request.urlretrieve(url=self.config.source_URL, filename=self.config.local_data_file)\n",
    "            logger.info(f\"{filename} download with following info: \\n{headers}\")\n",
    "        else:\n",
    "            logger.info(f\"File already exists of size: {get_size(Path(self.config.local_data_file))}\")\n",
    "\n",
    "    def extract_zip_file(self):\n",
    "        unzip_path = self.config.unzip_dir\n",
    "        # print(\"ZIP File Path:\", self.config.local_data_file)\n",
    "        # print(\"File Size (bytes):\", os.path.getsize(self.config.local_data_file))\n",
    "        os.makedirs(unzip_path,exist_ok=True)\n",
    "        with zipfile.ZipFile(self.config.local_data_file, 'r') as zip_ref:\n",
    "            zip_ref.extractall(unzip_path)"
   ]
  },
  {
   "cell_type": "code",
   "execution_count": 22,
   "id": "2bb9af0d",
   "metadata": {},
   "outputs": [
    {
     "name": "stdout",
     "output_type": "stream",
     "text": [
      "[2025-06-17 08:39:22,351:INFO:common: yaml file: config\\config.yaml loaded successfully]\n",
      "[2025-06-17 08:39:22,351:INFO:common: yaml file: params.yaml loaded successfully]\n",
      "[2025-06-17 08:39:22,360:INFO:common: yaml file: schema.yaml loaded successfully]\n",
      "[2025-06-17 08:39:22,360:INFO:common: created directory at: artifacts]\n",
      "[2025-06-17 08:39:22,360:INFO:common: created directory at: artifacts/data_ingestion]\n",
      "[2025-06-17 08:39:23,953:INFO:1184442725: artifacts/data_ingestion/data.zip download with following info: \n",
      "Connection: close\n",
      "Content-Length: 23329\n",
      "Cache-Control: max-age=300\n",
      "Content-Security-Policy: default-src 'none'; style-src 'unsafe-inline'; sandbox\n",
      "Content-Type: application/zip\n",
      "ETag: \"c69888a4ae59bc5a893392785a938ccd4937981c06ba8a9d6a21aa52b4ab5b6e\"\n",
      "Strict-Transport-Security: max-age=31536000\n",
      "X-Content-Type-Options: nosniff\n",
      "X-Frame-Options: deny\n",
      "X-XSS-Protection: 1; mode=block\n",
      "X-GitHub-Request-Id: B3EB:170B30:6BAC9:187273:6850DC9D\n",
      "Accept-Ranges: bytes\n",
      "Date: Tue, 17 Jun 2025 03:10:22 GMT\n",
      "Via: 1.1 varnish\n",
      "X-Served-By: cache-maa10239-MAA\n",
      "X-Cache: MISS\n",
      "X-Cache-Hits: 0\n",
      "X-Timer: S1750129822.858341,VS0,VE231\n",
      "Vary: Authorization,Accept-Encoding\n",
      "Access-Control-Allow-Origin: *\n",
      "Cross-Origin-Resource-Policy: cross-origin\n",
      "X-Fastly-Request-ID: d6cbb858c22ad7fc9b01bc01688cf92b7e85b7f4\n",
      "Expires: Tue, 17 Jun 2025 03:15:22 GMT\n",
      "Source-Age: 0\n",
      "\n",
      "]\n",
      "ZIP File Path: artifacts/data_ingestion/data.zip\n",
      "File Size (bytes): 23329\n"
     ]
    }
   ],
   "source": [
    "#Pipeline\n",
    "\n",
    "try:\n",
    "    config=ConfigurationManager()\n",
    "    data_ing_config=config.get_data_ingestion_config()\n",
    "    data_ing=DataIngestion(config=data_ing_config)\n",
    "    data_ing.download_file()\n",
    "    data_ing.extract_zip_file()\n",
    "except Exception as e:\n",
    "    raise e"
   ]
  },
  {
   "cell_type": "markdown",
   "id": "08d1f903",
   "metadata": {},
   "source": [
    "# Data validation"
   ]
  },
  {
   "cell_type": "code",
   "execution_count": null,
   "id": "199491ab",
   "metadata": {},
   "outputs": [],
   "source": [
    "# Entity\n",
    "from dataclasses import dataclass\n",
    "from pathlib import Path\n",
    "\n",
    "@dataclass(frozen=True)\n",
    "\n",
    "class DataValidationConfig:\n",
    "    root_dir: Path\n",
    "    STATUS_FILE: str\n",
    "    unzip_data_dir: Path\n",
    "    all_schema: dict\n"
   ]
  },
  {
   "cell_type": "code",
   "execution_count": 30,
   "id": "9866d978",
   "metadata": {},
   "outputs": [],
   "source": [
    "# Configuration Manager \n",
    "from mlProject.constants import *\n",
    "from mlProject.utils.common import read_yaml, create_directories\n",
    "\n",
    "class ConfigurationManager:\n",
    "    def __init__(self, config_filepath=CONFIG_FILE_PATH, params_filepath=PARAMS_FILE_PATH,schema_filepath=SCHEMA_FILE_PATH):\n",
    "        self.config = read_yaml(config_filepath)\n",
    "        self.params = read_yaml(params_filepath)\n",
    "        self.schema = read_yaml(schema_filepath)\n",
    "\n",
    "        create_directories([self.config.artifacts_root])\n",
    "\n",
    "    def get_data_ingestion_config(self) -> DataIngestionConfig:\n",
    "        config=self.config.data_ingestion\n",
    "\n",
    "        create_directories([config.root_dir])\n",
    "\n",
    "        data_ingestion_config = DataIngestionConfig(root_dir=config.root_dir, source_URL=config.source_URL, \n",
    "                                                    local_data_file=config.local_Data_file,\n",
    "                                                    unzip_dir=config.unzip_dir)\n",
    "        return data_ingestion_config\n",
    "    \n",
    "    def get_data_validation_config(self) -> DataValidationConfig:\n",
    "        config = self.config.data_validation\n",
    "        schema = self.schema.COLUMNS\n",
    "\n",
    "        create_directories([config.root_dir])\n",
    "\n",
    "        data_validation_config= DataValidationConfig(root_dir=config.root_dir,\n",
    "                                                     STATUS_FILE=config.STATUS_FILE,\n",
    "                                                     unzip_data_dir=config.unzip_data_dir,\n",
    "                                                     all_schema=schema)\n",
    "        return data_validation_config"
   ]
  },
  {
   "cell_type": "code",
   "execution_count": 31,
   "id": "c1e4327c",
   "metadata": {},
   "outputs": [],
   "source": [
    "import os\n",
    "from mlProject import logger\n",
    "import pandas as pd"
   ]
  },
  {
   "cell_type": "code",
   "execution_count": 32,
   "id": "11ecbd14",
   "metadata": {},
   "outputs": [],
   "source": [
    "class DataValidation:\n",
    "    def __init__(self, config: DataValidationConfig):\n",
    "        self.config=config\n",
    "\n",
    "    def validate_all_columns(self)-> bool:\n",
    "        try:\n",
    "            validation_status=True\n",
    "            data=pd.read_csv(self.config.unzip_data_dir)\n",
    "            all_cols = list(data.columns)\n",
    "            all_schema = self.config.all_schema.keys()\n",
    "\n",
    "            for col in all_cols:\n",
    "                if col not in all_schema:\n",
    "                    validation_status=False\n",
    "                    with open(self.config.STATUS_FILE, 'w') as f:\n",
    "                        f.write(f\"Validation Status: {validation_status}\")\n",
    "                else:\n",
    "                    with open(self.config.STATUS_FILE, 'w') as f:\n",
    "                        f.write(f\"Validation Status: {validation_status}\")\n",
    "            return validation_status\n",
    "        except Exception as e:\n",
    "            raise e"
   ]
  },
  {
   "cell_type": "code",
   "execution_count": 33,
   "id": "67f24ca7",
   "metadata": {},
   "outputs": [
    {
     "name": "stdout",
     "output_type": "stream",
     "text": [
      "[2025-06-18 15:09:25,038:INFO:common: yaml file: config\\config.yaml loaded successfully]\n",
      "[2025-06-18 15:09:25,040:INFO:common: yaml file: params.yaml loaded successfully]\n",
      "[2025-06-18 15:09:25,043:INFO:common: yaml file: schema.yaml loaded successfully]\n",
      "[2025-06-18 15:09:25,045:INFO:common: created directory at: artifacts]\n",
      "[2025-06-18 15:09:25,047:INFO:common: created directory at: artifacts/data_validation]\n"
     ]
    }
   ],
   "source": [
    "try:\n",
    "    config = ConfigurationManager()\n",
    "    data_val_config = config.get_data_validation_config()\n",
    "    data_validation = DataValidation(config=data_val_config)\n",
    "    data_validation.validate_all_columns()\n",
    "except Exception as e:\n",
    "    raise e"
   ]
  },
  {
   "cell_type": "markdown",
   "id": "3ad4d978",
   "metadata": {},
   "source": [
    "# Data Transformation"
   ]
  },
  {
   "cell_type": "code",
   "execution_count": 34,
   "id": "4377c2b7",
   "metadata": {},
   "outputs": [],
   "source": [
    "@dataclass(frozen= True)\n",
    "class DataTransformationConfig:\n",
    "    root_dir: Path\n",
    "    data_path: Path"
   ]
  },
  {
   "cell_type": "code",
   "execution_count": 35,
   "id": "0de1dec4",
   "metadata": {},
   "outputs": [],
   "source": [
    "# Configuration Manager \n",
    "from mlProject.constants import *\n",
    "from mlProject.utils.common import read_yaml, create_directories\n",
    "\n",
    "class ConfigurationManager:\n",
    "    def __init__(self, config_filepath=CONFIG_FILE_PATH, params_filepath=PARAMS_FILE_PATH,schema_filepath=SCHEMA_FILE_PATH):\n",
    "        self.config = read_yaml(config_filepath)\n",
    "        self.params = read_yaml(params_filepath)\n",
    "        self.schema = read_yaml(schema_filepath)\n",
    "\n",
    "        create_directories([self.config.artifacts_root])\n",
    "\n",
    "    def get_data_ingestion_config(self) -> DataIngestionConfig:\n",
    "        config=self.config.data_ingestion\n",
    "\n",
    "        create_directories([config.root_dir])\n",
    "\n",
    "        data_ingestion_config = DataIngestionConfig(root_dir=config.root_dir, source_URL=config.source_URL, \n",
    "                                                    local_data_file=config.local_Data_file,\n",
    "                                                    unzip_dir=config.unzip_dir)\n",
    "        return data_ingestion_config\n",
    "    \n",
    "    def get_data_validation_config(self) -> DataValidationConfig:\n",
    "        config = self.config.data_validation\n",
    "        schema = self.schema.COLUMNS\n",
    "\n",
    "        create_directories([config.root_dir])\n",
    "\n",
    "        data_validation_config= DataValidationConfig(root_dir=config.root_dir,\n",
    "                                                     STATUS_FILE=config.STATUS_FILE,\n",
    "                                                     unzip_data_dir=config.unzip_data_dir,\n",
    "                                                     all_schema=schema)\n",
    "        return data_validation_config\n",
    "    \n",
    "    def get_data_transformation_config(self) -> DataTransformationConfig:\n",
    "        config= self.config.data_transformation\n",
    "        create_directories([config.root_dir])\n",
    "        data_transformation_config = DataTransformationConfig(root_dir=config.root_dir,\n",
    "                                                              data_path=config.data_path)\n",
    "        return data_transformation_config"
   ]
  },
  {
   "cell_type": "code",
   "execution_count": null,
   "id": "5f26a4bb",
   "metadata": {},
   "outputs": [],
   "source": []
  },
  {
   "cell_type": "code",
   "execution_count": 38,
   "id": "c914765d",
   "metadata": {},
   "outputs": [],
   "source": [
    "from sklearn.model_selection import train_test_split"
   ]
  },
  {
   "cell_type": "code",
   "execution_count": 39,
   "id": "344445d0",
   "metadata": {},
   "outputs": [],
   "source": [
    "# Components\n",
    "\n",
    "\n",
    "class DataTransformation:\n",
    "    def __init__(self, config:DataTransformationConfig):\n",
    "        self.config=config\n",
    "    \n",
    "    def train_test_spliting(self):\n",
    "        data=pd.read_csv(self.config.data_path)\n",
    "        train,test=train_test_split(data)\n",
    "        train.to_csv(os.path.join(self.config.root_dir, \"train.csv\"),index=False)\n",
    "        test.to_csv(os.path.join(self.config.root_dir, \"test.csv\"), index=False)\n",
    "\n",
    "        logger.info('Splitted data into training and test sets')\n",
    "        logger.info(train.shape)\n",
    "        logger.info(test.shape)\n",
    "\n",
    "        print(train.shape)\n",
    "        print(test.shape)\n"
   ]
  },
  {
   "cell_type": "code",
   "execution_count": 40,
   "id": "761b152b",
   "metadata": {},
   "outputs": [
    {
     "name": "stdout",
     "output_type": "stream",
     "text": [
      "[2025-06-18 17:52:09,765:INFO:common: yaml file: config\\config.yaml loaded successfully]\n",
      "[2025-06-18 17:52:09,771:INFO:common: yaml file: params.yaml loaded successfully]\n",
      "[2025-06-18 17:52:09,782:INFO:common: yaml file: schema.yaml loaded successfully]\n",
      "[2025-06-18 17:52:09,800:INFO:common: created directory at: artifacts]\n",
      "[2025-06-18 17:52:09,806:INFO:common: created directory at: artifacts/data_transformation]\n"
     ]
    }
   ],
   "source": [
    "try:\n",
    "    config=ConfigurationManager()\n",
    "    data_trans_config=config.get_data_transformation_config()\n",
    "    data_trans=DataTransformation(config=data_trans_config)\n",
    "except Exception as e:\n",
    "    raise e"
   ]
  },
  {
   "cell_type": "markdown",
   "id": "9fc4724c",
   "metadata": {},
   "source": [
    "# 4. Model Training"
   ]
  },
  {
   "cell_type": "code",
   "execution_count": 47,
   "id": "d28af96e",
   "metadata": {},
   "outputs": [],
   "source": [
    "# Entity\n",
    "@dataclass(frozen=True)\n",
    "class ModelTrainerConfig:\n",
    "    root_dir:Path\n",
    "    train_data_path: Path\n",
    "    test_data_path: Path\n",
    "    model_name: str\n",
    "    alpha: float\n",
    "    l1_ratio: float\n",
    "    target_column:str"
   ]
  },
  {
   "cell_type": "code",
   "execution_count": 48,
   "id": "2148205d",
   "metadata": {},
   "outputs": [],
   "source": [
    "# Configuration Manager \n",
    "from mlProject.constants import *\n",
    "from mlProject.utils.common import read_yaml, create_directories\n",
    "\n",
    "class ConfigurationManager:\n",
    "    def __init__(self, config_filepath=CONFIG_FILE_PATH, params_filepath=PARAMS_FILE_PATH,schema_filepath=SCHEMA_FILE_PATH):\n",
    "        self.config = read_yaml(config_filepath)\n",
    "        self.params = read_yaml(params_filepath)\n",
    "        self.schema = read_yaml(schema_filepath)\n",
    "\n",
    "        create_directories([self.config.artifacts_root])\n",
    "\n",
    "    def get_data_ingestion_config(self) -> DataIngestionConfig:\n",
    "        config=self.config.data_ingestion\n",
    "\n",
    "        create_directories([config.root_dir])\n",
    "\n",
    "        data_ingestion_config = DataIngestionConfig(root_dir=config.root_dir, source_URL=config.source_URL, \n",
    "                                                    local_data_file=config.local_Data_file,\n",
    "                                                    unzip_dir=config.unzip_dir)\n",
    "        return data_ingestion_config\n",
    "    \n",
    "    def get_data_validation_config(self) -> DataValidationConfig:\n",
    "        config = self.config.data_validation\n",
    "        schema = self.schema.COLUMNS\n",
    "\n",
    "        create_directories([config.root_dir])\n",
    "\n",
    "        data_validation_config= DataValidationConfig(root_dir=config.root_dir,\n",
    "                                                     STATUS_FILE=config.STATUS_FILE,\n",
    "                                                     unzip_data_dir=config.unzip_data_dir,\n",
    "                                                     all_schema=schema)\n",
    "        return data_validation_config\n",
    "    \n",
    "    def get_data_transformation_config(self) -> DataTransformationConfig:\n",
    "        config= self.config.data_transformation\n",
    "        create_directories([config.root_dir])\n",
    "        data_transformation_config = DataTransformationConfig(root_dir=config.root_dir,\n",
    "                                                              data_path=config.data_path)\n",
    "        return data_transformation_config\n",
    "    \n",
    "    def get_model_trainer_config(self) -> ModelTrainerConfig:\n",
    "        config=self.config.model_trainer\n",
    "        params=self.params.ElasticNet\n",
    "        schema=self.schema.TARGET_COLUMN\n",
    "\n",
    "        create_directories([config.root_dir])\n",
    "\n",
    "        model_trainer_config=ModelTrainerConfig(root_dir=config.root_dir,\n",
    "                                                 train_data_path=config.train_data_path,\n",
    "                                                 test_data_path=config.test_data_path,\n",
    "                                                 model_name=config.model_name,\n",
    "                                                 alpha=params.alpha,\n",
    "                                                 l1_ratio=params.l1_ratio,\n",
    "                                                 target_column=schema.name)\n",
    "        return model_trainer_config"
   ]
  },
  {
   "cell_type": "code",
   "execution_count": 44,
   "id": "068c5af4",
   "metadata": {},
   "outputs": [],
   "source": [
    "from sklearn.linear_model import ElasticNet\n",
    "import joblib"
   ]
  },
  {
   "cell_type": "code",
   "execution_count": 49,
   "id": "b9ccccf8",
   "metadata": {},
   "outputs": [],
   "source": [
    "# Component\n",
    "\n",
    "class ModelTrainer:\n",
    "    def __init__(self,config:ModelTrainerConfig):\n",
    "        self.config=config\n",
    "\n",
    "    def train(self):\n",
    "        train_data=pd.read_csv(self.config.train_data_path)\n",
    "        test_data=pd.read_csv(self.config.test_data_path)\n",
    "\n",
    "        train_x=train_data.drop([self.config.target_column],axis=1)\n",
    "        test_x=test_data.drop([self.config.target_column],axis=1)\n",
    "        train_y=train_data[[self.config.target_column]]\n",
    "        test_y=test_data[[self.config.target_column]]\n",
    "\n",
    "        lr=ElasticNet(alpha=self.config.alpha, l1_ratio=self.config.l1_ratio,\n",
    "                      random_state=42)\n",
    "        lr.fit(train_x,train_y)\n",
    "\n",
    "        joblib.dump(lr, os.path.join(self.config.root_dir, self.config.model_name))\n"
   ]
  },
  {
   "cell_type": "code",
   "execution_count": 51,
   "id": "43ad0295",
   "metadata": {},
   "outputs": [
    {
     "name": "stdout",
     "output_type": "stream",
     "text": [
      "[2025-06-18 18:14:33,227:INFO:common: yaml file: config\\config.yaml loaded successfully]\n",
      "[2025-06-18 18:14:33,230:INFO:common: yaml file: params.yaml loaded successfully]\n",
      "[2025-06-18 18:14:33,234:INFO:common: yaml file: schema.yaml loaded successfully]\n",
      "[2025-06-18 18:14:33,236:INFO:common: created directory at: artifacts]\n",
      "[2025-06-18 18:14:33,237:INFO:common: created directory at: artifacts/model_trainer]\n"
     ]
    }
   ],
   "source": [
    "#pipeline\n",
    "try:\n",
    "    config = ConfigurationManager()\n",
    "    model_trainer_config=config.get_model_trainer_config()\n",
    "    model_trainer=ModelTrainer(config=model_trainer_config)\n",
    "    model_trainer.train()\n",
    "except Exception as e:\n",
    "    raise e"
   ]
  },
  {
   "cell_type": "markdown",
   "id": "acc4507b",
   "metadata": {},
   "source": [
    "# 5. Model Evaluation"
   ]
  },
  {
   "cell_type": "code",
   "execution_count": null,
   "id": "4582a0e6",
   "metadata": {},
   "outputs": [],
   "source": []
  },
  {
   "cell_type": "code",
   "execution_count": null,
   "id": "0c627256",
   "metadata": {},
   "outputs": [],
   "source": [
    "from dotenv import load_dotenv\n",
    "load_dotenv()\n",
    "\n",
    "username = os.getenv(\"DAGSHUB_USERNAME\")\n",
    "token = os.getenv(\"DAGSHUB_TOKEN\")\n"
   ]
  },
  {
   "cell_type": "code",
   "execution_count": 54,
   "id": "770f1b15",
   "metadata": {},
   "outputs": [],
   "source": [
    "@dataclass(frozen=True)\n",
    "class ModelEvaluationConfig:\n",
    "    root_dir:Path\n",
    "    test_data_path: Path\n",
    "    model_path: Path\n",
    "    all_params: dict\n",
    "    metric_file_name: Path\n",
    "    target_column: str\n",
    "    mlflow_uri: str"
   ]
  },
  {
   "cell_type": "code",
   "execution_count": null,
   "id": "33068ad5",
   "metadata": {},
   "outputs": [],
   "source": [
    "# Configuration Manager \n",
    "from mlProject.constants import *\n",
    "from mlProject.utils.common import read_yaml, create_directories\n",
    "\n",
    "class ConfigurationManager:\n",
    "    def __init__(self, config_filepath=CONFIG_FILE_PATH, params_filepath=PARAMS_FILE_PATH,schema_filepath=SCHEMA_FILE_PATH):\n",
    "        self.config = read_yaml(config_filepath)\n",
    "        self.params = read_yaml(params_filepath)\n",
    "        self.schema = read_yaml(schema_filepath)\n",
    "\n",
    "        create_directories([self.config.artifacts_root])\n",
    "\n",
    "    def get_data_ingestion_config(self) -> DataIngestionConfig:\n",
    "        config=self.config.data_ingestion\n",
    "\n",
    "        create_directories([config.root_dir])\n",
    "\n",
    "        data_ingestion_config = DataIngestionConfig(root_dir=config.root_dir, source_URL=config.source_URL, \n",
    "                                                    local_data_file=config.local_Data_file,\n",
    "                                                    unzip_dir=config.unzip_dir)\n",
    "        return data_ingestion_config\n",
    "    \n",
    "    def get_data_validation_config(self) -> DataValidationConfig:\n",
    "        config = self.config.data_validation\n",
    "        schema = self.schema.COLUMNS\n",
    "\n",
    "        create_directories([config.root_dir])\n",
    "\n",
    "        data_validation_config= DataValidationConfig(root_dir=config.root_dir,\n",
    "                                                     STATUS_FILE=config.STATUS_FILE,\n",
    "                                                     unzip_data_dir=config.unzip_data_dir,\n",
    "                                                     all_schema=schema)\n",
    "        return data_validation_config\n",
    "    \n",
    "    def get_data_transformation_config(self) -> DataTransformationConfig:\n",
    "        config= self.config.data_transformation\n",
    "        create_directories([config.root_dir])\n",
    "        data_transformation_config = DataTransformationConfig(root_dir=config.root_dir,\n",
    "                                                              data_path=config.data_path)\n",
    "        return data_transformation_config\n",
    "    \n",
    "    def get_model_trainer_config(self) -> ModelTrainerConfig:\n",
    "        config=self.config.model_trainer\n",
    "        params=self.params.ElasticNet\n",
    "        schema=self.schema.TARGET_COLUMN\n",
    "\n",
    "        create_directories([config.root_dir])\n",
    "\n",
    "        model_trainer_config=ModelTrainerConfig(root_dir=config.root_dir,\n",
    "                                                 train_data_path=config.train_data_path,\n",
    "                                                 test_data_path=config.test_data_path,\n",
    "                                                 model_name=config.model_name,\n",
    "                                                 alpha=params.alpha,\n",
    "                                                 l1_ratio=params.l1_ratio,\n",
    "                                                 target_column=schema.name)\n",
    "        return model_trainer_config\n",
    "    \n",
    "    def get_model_evaluation_config(self) -> ModelEvaluationConfig:\n",
    "        config = self.config.model_evaluation\n",
    "        params = self.params.ElasticNet\n",
    "        schema = self.schema.TARGET_COLUMN\n",
    "\n",
    "        create_directories([config.root_dir])\n",
    "\n",
    "        model_evaluation_config = ModelEvaluationConfig(root_dir=config.root_dir,\n",
    "                        test_data_path = config.test_data_path,\n",
    "                        model_path=config.model_path,\n",
    "                        all_params=params,\n",
    "                        metric_file_name=config.metric_file_name,\n",
    "                        target_column=schema.name,\n",
    "                        mlflow_uri= os.getenv(\"MLFLOW_TRACKING_URI\"))\n",
    "        return model_evaluation_config"
   ]
  },
  {
   "cell_type": "code",
   "execution_count": 62,
   "id": "68b1fa25",
   "metadata": {},
   "outputs": [],
   "source": [
    "from sklearn.metrics import mean_squared_error, mean_absolute_error, r2_score\n",
    "from urllib.parse import urlparse\n",
    "import mlflow\n",
    "import mlflow.sklearn\n",
    "from mlProject.utils.common import save_json\n",
    "import numpy as np"
   ]
  },
  {
   "cell_type": "code",
   "execution_count": null,
   "id": "3807aa58",
   "metadata": {},
   "outputs": [],
   "source": [
    "class ModelEvaluation:\n",
    "    def __init__(self,config: ModelEvaluationConfig):\n",
    "        self.config=config\n",
    "    \n",
    "    def eval_metrics(self,actual,pred):\n",
    "        rmse=np.sqrt(mean_squared_error(actual,pred))\n",
    "        mae=mean_absolute_error(actual,pred)\n",
    "        r2=r2_score(actual,pred)\n",
    "        return rmse,mae,r2\n",
    "\n",
    "    def log_into_mlflow(self):\n",
    "        test_data = pd.read_csv(self.config.test_data_path)\n",
    "        model = joblib.load(self.config.model_path)\n",
    "\n",
    "        test_x=test_data.drop([self.config.target_column],axis=1)\n",
    "        test_y=test_data[[self.config.target_column]]\n",
    "\n",
    "        mlflow.set_registry_uri(self.config.mlflow_uri)\n",
    "        tracking_url_type_store=urlparse(mlflow.get_tracking_uri()).scheme\n",
    "\n",
    "        with mlflow.start_run():\n",
    "            predicted_qualities=model.predict(test_x)\n",
    "            (rmse,mae,r2) = self.eval_metrics(test_y, predicted_qualities)\n",
    "\n",
    "            scores={'rmse':rmse, 'mae':mae,'r2':r2}\n",
    "            save_json(path=Path(self.config.metric_file_name), data=scores)\n",
    "\n",
    "            mlflow.log_params(self.config.all_params)\n",
    "            mlflow.log_metric('rmse',rmse)\n",
    "            mlflow.log_metric('r2',r2)\n",
    "            mlflow.log_metric('mae',mae)\n",
    "            \n",
    "            if tracking_url_type_store!='file':\n",
    "                mlflow.sklearn.log_model(model,\"model\",registered_model_name='ElasticnetModel')\n",
    "            else:\n",
    "                mlflow.sklearn.log_model(model,\"model\")\n",
    "\n"
   ]
  },
  {
   "cell_type": "code",
   "execution_count": 64,
   "id": "699b143e",
   "metadata": {},
   "outputs": [
    {
     "name": "stdout",
     "output_type": "stream",
     "text": [
      "[2025-06-20 11:21:15,150:INFO:common: yaml file: config\\config.yaml loaded successfully]\n",
      "[2025-06-20 11:21:15,153:INFO:common: yaml file: params.yaml loaded successfully]\n",
      "[2025-06-20 11:21:15,157:INFO:common: yaml file: schema.yaml loaded successfully]\n",
      "[2025-06-20 11:21:15,159:INFO:common: created directory at: artifacts]\n",
      "[2025-06-20 11:21:15,161:INFO:common: created directory at: artifacts/model_evaluation]\n",
      "[2025-06-20 11:21:15,825:INFO:common: json file saved at: artifacts\\model_evaluation\\metrics.json]\n"
     ]
    },
    {
     "name": "stderr",
     "output_type": "stream",
     "text": [
      "c:\\Users\\lavanyaa\\Miniconda3\\envs\\mlproj\\lib\\site-packages\\_distutils_hack\\__init__.py:30: UserWarning: Setuptools is replacing distutils. Support for replacing an already imported distutils is deprecated. In the future, this condition will fail. Register concerns at https://github.com/pypa/setuptools/issues/new?template=distutils-deprecation.yml\n",
      "  warnings.warn(\n",
      "Successfully registered model 'ElasticnetModel'.\n",
      "2025/06/20 11:21:30 INFO mlflow.tracking._model_registry.client: Waiting up to 300 seconds for model version to finish creation.                     Model name: ElasticnetModel, version 1\n",
      "Created version '1' of model 'ElasticnetModel'.\n"
     ]
    }
   ],
   "source": [
    "#pipeline\n",
    "try:\n",
    "    config=ConfigurationManager()\n",
    "    model_eval_config=config.get_model_evaluation_config()\n",
    "    model_eval_config=ModelEvaluation(config=model_eval_config)\n",
    "    model_eval_config.log_into_mlflow()\n",
    "except Exception as e:\n",
    "    raise e"
   ]
  },
  {
   "cell_type": "code",
   "execution_count": null,
   "id": "e014d51c",
   "metadata": {},
   "outputs": [],
   "source": []
  }
 ],
 "metadata": {
  "kernelspec": {
   "display_name": "Python 3",
   "language": "python",
   "name": "python3"
  },
  "language_info": {
   "codemirror_mode": {
    "name": "ipython",
    "version": 3
   },
   "file_extension": ".py",
   "mimetype": "text/x-python",
   "name": "python",
   "nbconvert_exporter": "python",
   "pygments_lexer": "ipython3",
   "version": "3.10.18"
  }
 },
 "nbformat": 4,
 "nbformat_minor": 5
}
